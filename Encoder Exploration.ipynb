{
  "nbformat": 4,
  "nbformat_minor": 0,
  "metadata": {
    "colab": {
      "name": "Encoder Exploration.ipynb",
      "version": "0.3.2",
      "provenance": [],
      "toc_visible": true
    },
    "kernelspec": {
      "display_name": "Python 3",
      "language": "python",
      "name": "python3"
    }
  },
  "cells": [
    {
      "metadata": {
        "id": "PEDsuh--Em7H",
        "colab_type": "text"
      },
      "cell_type": "markdown",
      "source": [
        "# Encoder Project - practice notebook\n",
        "\n",
        "This notebook will give you all the skills you need to code your Encoder Project"
      ]
    },
    {
      "metadata": {
        "id": "BkVRH3OKEm7J",
        "colab_type": "text"
      },
      "cell_type": "markdown",
      "source": [
        "## Reading from Files in Python"
      ]
    },
    {
      "metadata": {
        "id": "4E8NZKY_Em7K",
        "colab_type": "text"
      },
      "cell_type": "markdown",
      "source": [
        "In order to work with files you need a variable called a FILE HANDLE - think of it as the variable you can then use to GRAB the file\n"
      ]
    },
    {
      "metadata": {
        "id": "6q8al1gXEm7L",
        "colab_type": "text"
      },
      "cell_type": "markdown",
      "source": [
        "Suppose you want to write to a file called work.txt  here's how you wpuld create it (if it does not yet exist) and open it.\n"
      ]
    },
    {
      "metadata": {
        "id": "k5Woj0lKEm7M",
        "colab_type": "code",
        "colab": {}
      },
      "cell_type": "code",
      "source": [
        "f = open('input.txt', 'w')"
      ],
      "execution_count": 0,
      "outputs": []
    },
    {
      "metadata": {
        "id": "EtFgoXoCEm7R",
        "colab_type": "code",
        "colab": {
          "base_uri": "https://localhost:8080/",
          "height": 34
        },
        "outputId": "3a0a6e99-f40f-4591-becb-0f7b6eb518b5"
      },
      "cell_type": "code",
      "source": [
        "f"
      ],
      "execution_count": 2,
      "outputs": [
        {
          "output_type": "execute_result",
          "data": {
            "text/plain": [
              "<_io.TextIOWrapper name='input.txt' mode='w' encoding='UTF-8'>"
            ]
          },
          "metadata": {
            "tags": []
          },
          "execution_count": 2
        }
      ]
    },
    {
      "metadata": {
        "id": "JDC-YNiqEm7W",
        "colab_type": "text"
      },
      "cell_type": "markdown",
      "source": [
        "# Question 1:\n",
        "\n",
        "What happened? (Hint: have a look in the directory structure)"
      ]
    },
    {
      "metadata": {
        "id": "m9cFVsxWEm7X",
        "colab_type": "text"
      },
      "cell_type": "markdown",
      "source": [
        "# Answer 1:\n",
        "the variable f  has a comand to open  the \"input.txt\" file"
      ]
    },
    {
      "metadata": {
        "id": "ZATMkFYPEm7Y",
        "colab_type": "text"
      },
      "cell_type": "markdown",
      "source": [
        "# Question 2\n",
        "\n",
        "The line of code above opens a file for WRITING - how could you change it to open a file for READING?"
      ]
    },
    {
      "metadata": {
        "id": "3cTFTeKsEm7Z",
        "colab_type": "text"
      },
      "cell_type": "markdown",
      "source": [
        "# Answer 2:\n",
        "instead of a \"w\" use a \"r\""
      ]
    },
    {
      "metadata": {
        "id": "NOyiWAgAEm7a",
        "colab_type": "text"
      },
      "cell_type": "markdown",
      "source": [
        "# Task:\n",
        "Put some words into the file (open it up and type them in!). One on each line, or separated by commas if there are more than one word per line. Start like this for instance:\n",
        "```\n",
        "apple, banana, pear\n",
        "grapefruit\n",
        "grape, satsuma, watermelon\n",
        "litchi\n",
        "```\n",
        "\n",
        "add at least 10\n",
        "\n",
        "**remember to SAVE the file!**\n"
      ]
    },
    {
      "metadata": {
        "id": "GK2RiZ5hEm7b",
        "colab_type": "code",
        "colab": {
          "base_uri": "https://localhost:8080/",
          "height": 85
        },
        "outputId": "476e0ce2-7dc1-4631-c8b3-3c69bf7a39be"
      },
      "cell_type": "code",
      "source": [
        "f = open('work.txt', 'r')\n",
        "fileContents = f.readlines()\n",
        "fileContents"
      ],
      "execution_count": 8,
      "outputs": [
        {
          "output_type": "execute_result",
          "data": {
            "text/plain": [
              "['keyboard, mouse, printer\\n',\n",
              " 'speaker\\n',\n",
              " 'scanner, headphones, microphone\\n',\n",
              " 'tablet ']"
            ]
          },
          "metadata": {
            "tags": []
          },
          "execution_count": 8
        }
      ]
    },
    {
      "metadata": {
        "id": "GFLRMzwcEm7j",
        "colab_type": "text"
      },
      "cell_type": "markdown",
      "source": [
        "# Question 3:\n",
        "\n",
        "What **data type** is fileContents?"
      ]
    },
    {
      "metadata": {
        "id": "yZCqVH9AEm7l",
        "colab_type": "text"
      },
      "cell_type": "markdown",
      "source": [
        "# Answer 3:\n",
        "\n",
        "\n",
        "built in function \n"
      ]
    },
    {
      "metadata": {
        "id": "_dAgHoFmEm7l",
        "colab_type": "code",
        "colab": {
          "base_uri": "https://localhost:8080/",
          "height": 34
        },
        "outputId": "85d5b9d1-8375-466d-e2ef-54a3ff9cda25"
      },
      "cell_type": "code",
      "source": [
        "f = open('work.txt', 'r')\n",
        "fileContents = f.read()\n",
        "fileContents"
      ],
      "execution_count": 10,
      "outputs": [
        {
          "output_type": "execute_result",
          "data": {
            "text/plain": [
              "'keyboard, mouse, printer\\nspeaker\\nscanner, headphones, microphone\\ntablet '"
            ]
          },
          "metadata": {
            "tags": []
          },
          "execution_count": 10
        }
      ]
    },
    {
      "metadata": {
        "id": "nvreqeh2Em7p",
        "colab_type": "text"
      },
      "cell_type": "markdown",
      "source": [
        "# Question 4:\n",
        "\n",
        "What **data type** is fileContents now? **Why?**"
      ]
    },
    {
      "metadata": {
        "id": "DPPQbBSuEm7q",
        "colab_type": "text"
      },
      "cell_type": "markdown",
      "source": [
        "# Answer 4:\n",
        "\n",
        "\n",
        "it changed becuase instead of \"readlines\" it reads all of it with the \"read \" function"
      ]
    },
    {
      "metadata": {
        "id": "lgQtt6bjEm7r",
        "colab_type": "text"
      },
      "cell_type": "markdown",
      "source": [
        "# Think\n",
        "\n",
        "Do you notice that you have a newline character ```\\n``` at the end of each line  in the file? That's because you typed ENTER after each line and this is a valid character and so is read like any other\n",
        "\n",
        "so you need to remove the newline character... \n",
        "\n",
        "Also, we've got to choose where to go with lists (of strings) like these:\n",
        "\n",
        "``` python\n",
        "['apple, banana, pear\\n',\n",
        " 'grapefruit\\n',\n",
        " 'grape, satsuma, watermelon\\n',\n",
        " 'litchi'] \n",
        "```\n",
        "or strings like these:\n",
        "\n",
        "``` python\n",
        "'apple, banana, pear\\ngrapefruit\\ngrape, satsuma, watermelon\\nlitchi'\n",
        "```\n",
        "and then turn either one into a *clean* list of strings like this:\n",
        "``` python\n",
        "['apple', 'banana', 'pear','grapefruit','grape', 'satsuma', 'watermelon','litchi'] \n",
        "```\n"
      ]
    },
    {
      "metadata": {
        "id": "QuucYZYZEm7s",
        "colab_type": "text"
      },
      "cell_type": "markdown",
      "source": [
        "## Python string methods \n",
        "\n",
        "https://docs.python.org/3.3/library/stdtypes.html#string-methods"
      ]
    },
    {
      "metadata": {
        "id": "iLR4N54lEm7t",
        "colab_type": "text"
      },
      "cell_type": "markdown",
      "source": [
        "# Experiment  - SPLIT\n",
        "\n",
        "```python\n",
        "    str.split(sep=None)\n",
        "```"
      ]
    },
    {
      "metadata": {
        "id": "Z26HWP_xEm7x",
        "colab_type": "code",
        "colab": {},
        "outputId": "b2e32ad4-1e89-4dc2-805f-03ee350bd4a1"
      },
      "cell_type": "code",
      "source": [
        "s = \"This is a long example string, @ with lots of different @&% bits 012xyz\"\n",
        "s.split(\"o\") "
      ],
      "execution_count": 0,
      "outputs": [
        {
          "output_type": "execute_result",
          "data": {
            "text/plain": [
              "['This is a l',\n",
              " 'ng example string, @ with l',\n",
              " 'ts ',\n",
              " 'f different @&% bits 012xyz']"
            ]
          },
          "metadata": {
            "tags": []
          },
          "execution_count": 6
        }
      ]
    },
    {
      "metadata": {
        "id": "2CUuG-DjEm74",
        "colab_type": "text"
      },
      "cell_type": "markdown",
      "source": [
        "## What does the .split() method do?\n",
        "\n",
        "wherever there is a \"o\" it splits the string into a new line"
      ]
    },
    {
      "metadata": {
        "id": "40wjqP2qEm75",
        "colab_type": "text"
      },
      "cell_type": "markdown",
      "source": [
        "# Experiment  - STRIP\n",
        "\n",
        "```python\n",
        "str.strip(chars)\n",
        "```\n"
      ]
    },
    {
      "metadata": {
        "id": "tN531cCGEm75",
        "colab_type": "code",
        "colab": {},
        "outputId": "8a19b7ed-fc1b-4a0c-e03f-c2fddf1e25e2"
      },
      "cell_type": "code",
      "source": [
        "s=\"ooohello worldoooo\"\n",
        "newS = s.strip(\"o\")\n",
        "print(newS)\n",
        "newS = s.strip(\"oh\")\n",
        "print(newS)\n",
        "newS = s.strip(\"r\")\n",
        "print(newS)"
      ],
      "execution_count": 0,
      "outputs": [
        {
          "output_type": "stream",
          "text": [
            "hello world\n",
            "ello world\n",
            "ooohello worldoooo\n"
          ],
          "name": "stdout"
        }
      ]
    },
    {
      "metadata": {
        "id": "cyzalE2-Em7-",
        "colab_type": "text"
      },
      "cell_type": "markdown",
      "source": [
        "## What does the .strip() method do?\n",
        "\n",
        "strip() removes the leading and trailing characters assigned to it, however it doesnt remove characters thats aren't  leading or tralling  for example the r"
      ]
    },
    {
      "metadata": {
        "id": "yP-oypPPEm8A",
        "colab_type": "text"
      },
      "cell_type": "markdown",
      "source": [
        "## Task \n",
        "\n",
        "Write python code to\n",
        "- open the text file for reading\n",
        "- read the contents into a list or string (you choose)\n",
        "- create a list of strings with no newline characters\n",
        "- print the final list to see that you have been successful"
      ]
    },
    {
      "metadata": {
        "id": "LmVp5Z5FEm8B",
        "colab_type": "code",
        "colab": {
          "base_uri": "https://localhost:8080/",
          "height": 34
        },
        "outputId": "c7aae39d-caaf-4ecf-a1dd-d344597faf0a"
      },
      "cell_type": "code",
      "source": [
        "a = open('task1.txt', 'r')\n",
        "fileContents = f.read()\n",
        "fileContents\n",
        "\n",
        "\n"
      ],
      "execution_count": 20,
      "outputs": [
        {
          "output_type": "execute_result",
          "data": {
            "text/plain": [
              "''"
            ]
          },
          "metadata": {
            "tags": []
          },
          "execution_count": 20
        }
      ]
    },
    {
      "metadata": {
        "id": "zhSVLmh3Em8E",
        "colab_type": "text"
      },
      "cell_type": "markdown",
      "source": [
        "\n",
        "# Strings\n",
        "\n",
        "A string in python is built-in or standard data type that is made of a sequence of [Unicode](https://en.wikipedia.org/wiki/Unicode) characters. Strings are [immutable](https://en.wikibooks.org/wiki/Python_Programming/Data_Types#Mutable_vs_Immutable_Objects)\n",
        "\n",
        "e.g. \"hello\", \"abc123\", \"hello world\", \"CD9-023-4F%\" , \"I just can't get enough\"\n",
        "\n",
        "## NOTE ON SYNTAX: \n",
        "You can use single quotes in Python but we will always use double quotes because\n",
        "\n",
        "1) The you can write strings like  \"I just can't get enough\"\n",
        "\n",
        "2) Its more consistent with other langauges like C and Java\n",
        "\n",
        "## Manipulating Strings with python [String methods](https://docs.python.org/3.3/library/stdtypes.html#text-sequence-type-str)\n",
        "\n",
        "### Finding substrings or characters in Strings\n",
        "\n",
        "```python\n",
        "    str.find(sub)\n",
        "```\n",
        "Return the lowest index in the string where substring sub is found. Return -1 if sub is not found."
      ]
    },
    {
      "metadata": {
        "id": "rOKdhIarEm8F",
        "colab_type": "code",
        "colab": {}
      },
      "cell_type": "code",
      "source": [
        "s = \"we are the world\"\n",
        "s.find(\"are\")"
      ],
      "execution_count": 0,
      "outputs": []
    },
    {
      "metadata": {
        "id": "sk6cvdMlEm8I",
        "colab_type": "code",
        "colab": {}
      },
      "cell_type": "code",
      "source": [
        "s.find(\"z\")"
      ],
      "execution_count": 0,
      "outputs": []
    },
    {
      "metadata": {
        "id": "eQ0p3eNwEm8M",
        "colab_type": "text"
      },
      "cell_type": "markdown",
      "source": [
        "## Question\n",
        "\n",
        "What if the substring (which may it e one character) appears twice?\n",
        "\n",
        "## Your Answer:\n",
        "\n",
        "it find the first substring "
      ]
    },
    {
      "metadata": {
        "id": "ysXZ-9_zEm8N",
        "colab_type": "text"
      },
      "cell_type": "markdown",
      "source": [
        "### Removing substrings or characters in Strings\n",
        "\n",
        "Because Python strings are immutable there is no method for this, so you'll have to write a your own function. It will actually produce another string which can then just be assigned to the original string so its seems like its changed, but actually the variable is pointing to another part of memory. This means lots of variables are created in memory that can no longer be accessed and so as not to waste memory Python will need to done some [garbage collection](https://docs.python.org/3/glossary.html#term-garbage-collection). Luckily Python does this for you\n"
      ]
    },
    {
      "metadata": {
        "id": "64kX2IbPEm8U",
        "colab_type": "code",
        "colab": {}
      },
      "cell_type": "code",
      "source": [
        "#This function removes the character c from the string s\n",
        "def removeCharFromString(c, s):\n",
        "    \n",
        "    return s\n",
        "    "
      ],
      "execution_count": 0,
      "outputs": []
    },
    {
      "metadata": {
        "id": "CQlwEDyzEm8b",
        "colab_type": "code",
        "colab": {}
      },
      "cell_type": "code",
      "source": [
        "newS= removeCharFromString(\"a\",\"that was alot of fun\")"
      ],
      "execution_count": 0,
      "outputs": []
    },
    {
      "metadata": {
        "id": "xmXHMu9sEm8e",
        "colab_type": "code",
        "colab": {},
        "outputId": "c222b6f2-20e9-471d-8afd-e52303fb493a"
      },
      "cell_type": "code",
      "source": [
        "# TESTING\n",
        "# run this assert, if you function works correctly, it won't return \n",
        "# an AssertionError\n",
        "assert(removeCharFromString(\"a\", \"that was fun\") == \"tht ws lot of fun\")"
      ],
      "execution_count": 0,
      "outputs": [
        {
          "output_type": "error",
          "ename": "AssertionError",
          "evalue": "",
          "traceback": [
            "\u001b[0;31m---------------------------------------------------------------------------\u001b[0m",
            "\u001b[0;31mAssertionError\u001b[0m                            Traceback (most recent call last)",
            "\u001b[0;32m<ipython-input-31-a7c72c96cfe0>\u001b[0m in \u001b[0;36m<module>\u001b[0;34m\u001b[0m\n\u001b[1;32m      1\u001b[0m \u001b[0;31m# run this assert, if you function works correctly, it won't return\u001b[0m\u001b[0;34m\u001b[0m\u001b[0;34m\u001b[0m\u001b[0m\n\u001b[1;32m      2\u001b[0m \u001b[0;31m# an AssertionError\u001b[0m\u001b[0;34m\u001b[0m\u001b[0;34m\u001b[0m\u001b[0m\n\u001b[0;32m----> 3\u001b[0;31m \u001b[0;32massert\u001b[0m\u001b[0;34m(\u001b[0m\u001b[0mremoveCharFromString\u001b[0m\u001b[0;34m(\u001b[0m\u001b[0;34m\"a\"\u001b[0m\u001b[0;34m,\u001b[0m \u001b[0;34m\"that was fun\"\u001b[0m\u001b[0;34m)\u001b[0m \u001b[0;34m==\u001b[0m \u001b[0;34m\"tht ws lot of fun\"\u001b[0m\u001b[0;34m)\u001b[0m\u001b[0;34m\u001b[0m\u001b[0m\n\u001b[0m",
            "\u001b[0;31mAssertionError\u001b[0m: "
          ]
        }
      ]
    },
    {
      "metadata": {
        "id": "mV_z-f_4Em8k",
        "colab_type": "text"
      },
      "cell_type": "markdown",
      "source": [
        "## Task : find and replace\n",
        "\n",
        "Now write another function that will find a character in a string an replace it with another character that the user chooses. Adapt your code for ```removeCharFromString``` to achieve this"
      ]
    },
    {
      "metadata": {
        "id": "GhU5sGecEm8l",
        "colab_type": "code",
        "colab": {}
      },
      "cell_type": "code",
      "source": [
        "def findReplaceChar(findCh, replaceCh, s):\n",
        "    \n",
        "    return s"
      ],
      "execution_count": 0,
      "outputs": []
    },
    {
      "metadata": {
        "id": "EQGTejyrEm8n",
        "colab_type": "code",
        "colab": {}
      },
      "cell_type": "code",
      "source": [
        "newS= findReplaceChar(\"a\", \"b\", \"that was alot of fun\")"
      ],
      "execution_count": 0,
      "outputs": []
    },
    {
      "metadata": {
        "id": "s3vawtl7Em8p",
        "colab_type": "code",
        "colab": {},
        "outputId": "6d8d487c-e60f-4d43-c2c0-05c8df109595"
      },
      "cell_type": "code",
      "source": [
        "# TESTING\n",
        "# run this assert, if you function works correctly, it won't return \n",
        "# an AssertionError\n",
        "\n",
        "assert (findReplaceChar(\"a\", \"b\", \"that was alot of fun\") == \"thbt wbs blot of fun\")"
      ],
      "execution_count": 0,
      "outputs": [
        {
          "output_type": "error",
          "ename": "AssertionError",
          "evalue": "",
          "traceback": [
            "\u001b[0;31m---------------------------------------------------------------------------\u001b[0m",
            "\u001b[0;31mAssertionError\u001b[0m                            Traceback (most recent call last)",
            "\u001b[0;32m<ipython-input-38-3071dbab50ca>\u001b[0m in \u001b[0;36m<module>\u001b[0;34m\u001b[0m\n\u001b[1;32m      3\u001b[0m \u001b[0;31m# an AssertionError\u001b[0m\u001b[0;34m\u001b[0m\u001b[0;34m\u001b[0m\u001b[0m\n\u001b[1;32m      4\u001b[0m \u001b[0;34m\u001b[0m\u001b[0m\n\u001b[0;32m----> 5\u001b[0;31m \u001b[0;32massert\u001b[0m \u001b[0;34m(\u001b[0m\u001b[0mfindReplaceChar\u001b[0m\u001b[0;34m(\u001b[0m\u001b[0;34m\"a\"\u001b[0m\u001b[0;34m,\u001b[0m \u001b[0;34m\"b\"\u001b[0m\u001b[0;34m,\u001b[0m \u001b[0;34m\"that was alot of fun\"\u001b[0m\u001b[0;34m)\u001b[0m \u001b[0;34m==\u001b[0m \u001b[0;34m\"thbt wbs blot of fun\"\u001b[0m\u001b[0;34m)\u001b[0m\u001b[0;34m\u001b[0m\u001b[0m\n\u001b[0m",
            "\u001b[0;31mAssertionError\u001b[0m: "
          ]
        }
      ]
    },
    {
      "metadata": {
        "id": "2-aiO5R5Em8t",
        "colab_type": "text"
      },
      "cell_type": "markdown",
      "source": [
        "## Writing lists to files in python\n",
        "\n",
        "Once you have manipulated your list of strings, you'll want to save the content of the list back into a file. This sample code shows you how:"
      ]
    },
    {
      "metadata": {
        "id": "WMItsWoXEm8t",
        "colab_type": "code",
        "colab": {}
      },
      "cell_type": "code",
      "source": [
        "wordList = ['one','two','three']\n",
        "f = open('output.txt', 'w')\n",
        "f.writelines(wordList)\n",
        "f.close()"
      ],
      "execution_count": 0,
      "outputs": []
    },
    {
      "metadata": {
        "id": "D7ju4AdTEm8w",
        "colab_type": "text"
      },
      "cell_type": "markdown",
      "source": [
        "## what happened? Look at your folder structure\n",
        "\n",
        "*your answer here*"
      ]
    },
    {
      "metadata": {
        "id": "ClxhlANSEm8w",
        "colab_type": "code",
        "colab": {}
      },
      "cell_type": "code",
      "source": [
        "# now use your skills to write each word, one by one, on a new line in the file.\n"
      ],
      "execution_count": 0,
      "outputs": []
    }
  ]
}